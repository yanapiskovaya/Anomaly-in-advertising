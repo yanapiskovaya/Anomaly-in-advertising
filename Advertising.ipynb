{
 "cells": [
  {
   "cell_type": "markdown",
   "id": "11cbca3b",
   "metadata": {},
   "source": [
    "Перед нами датасет взаимодействий с рекламными объявлениями на некоторой площадке за 6 дней и характеристиками рекламных клиентов (те, кто разместил эти объявления). \n",
    "В таблице следующие колонки:\n",
    "* ads_data.csv – данные взаимодействий с рекламными объявлениями\n",
    "* date – дата\n",
    "* time – время\n",
    "* event – действие (просмотр/клик)\n",
    "* platform – платформа\n",
    "* ad_id – id объявления\n",
    "* client_union_id – id рекламного кабинета\n",
    "* campaign_union_id – id рекламной кампании\n",
    "* ad_cost_type – тип оплаты\n",
    "* ad_cost – цена\n",
    "* has_video – есть ли видео\n",
    "* target_audience_count – размер аудитории\n",
    "* create_date – дата создания рекламного клиента"
   ]
  },
  {
   "cell_type": "markdown",
   "id": "c6b29119",
   "metadata": {},
   "source": [
    "Основная задача - изучить распределение показов и кликов рекламных объявлений, выявить аномалии по показам и кликам, если имеются, и распределить рекламных клиентов по категориям в зависимости от того, как быстро они разместили рекламу с момента регистрации на площадке."
   ]
  },
  {
   "cell_type": "code",
   "execution_count": 34,
   "id": "fbae7cd2",
   "metadata": {
    "scrolled": false
   },
   "outputs": [],
   "source": [
    "import pandas as pd\n",
    "import seaborn as sns\n",
    "import matplotlib.pyplot as plt"
   ]
  },
  {
   "cell_type": "code",
   "execution_count": 38,
   "id": "59b6ac64",
   "metadata": {},
   "outputs": [
    {
     "data": {
      "text/html": [
       "<div>\n",
       "<style scoped>\n",
       "    .dataframe tbody tr th:only-of-type {\n",
       "        vertical-align: middle;\n",
       "    }\n",
       "\n",
       "    .dataframe tbody tr th {\n",
       "        vertical-align: top;\n",
       "    }\n",
       "\n",
       "    .dataframe thead th {\n",
       "        text-align: right;\n",
       "    }\n",
       "</style>\n",
       "<table border=\"1\" class=\"dataframe\">\n",
       "  <thead>\n",
       "    <tr style=\"text-align: right;\">\n",
       "      <th></th>\n",
       "      <th>date</th>\n",
       "      <th>time</th>\n",
       "      <th>event</th>\n",
       "      <th>platform</th>\n",
       "      <th>ad_id</th>\n",
       "      <th>client_union_id</th>\n",
       "      <th>campaign_union_id</th>\n",
       "      <th>ad_cost_type</th>\n",
       "      <th>ad_cost</th>\n",
       "      <th>has_video</th>\n",
       "      <th>target_audience_count</th>\n",
       "      <th>create_date</th>\n",
       "    </tr>\n",
       "  </thead>\n",
       "  <tbody>\n",
       "    <tr>\n",
       "      <th>0</th>\n",
       "      <td>2019-04-01</td>\n",
       "      <td>2019-04-01 00:00:48</td>\n",
       "      <td>view</td>\n",
       "      <td>android</td>\n",
       "      <td>45061</td>\n",
       "      <td>34734</td>\n",
       "      <td>45061</td>\n",
       "      <td>CPM</td>\n",
       "      <td>200.6</td>\n",
       "      <td>0</td>\n",
       "      <td>1955269</td>\n",
       "      <td>2018-12-04</td>\n",
       "    </tr>\n",
       "    <tr>\n",
       "      <th>1</th>\n",
       "      <td>2019-04-01</td>\n",
       "      <td>2019-04-01 00:03:28</td>\n",
       "      <td>view</td>\n",
       "      <td>android</td>\n",
       "      <td>45061</td>\n",
       "      <td>34734</td>\n",
       "      <td>45061</td>\n",
       "      <td>CPM</td>\n",
       "      <td>200.6</td>\n",
       "      <td>0</td>\n",
       "      <td>1955269</td>\n",
       "      <td>2018-12-04</td>\n",
       "    </tr>\n",
       "    <tr>\n",
       "      <th>2</th>\n",
       "      <td>2019-04-01</td>\n",
       "      <td>2019-04-01 00:04:58</td>\n",
       "      <td>view</td>\n",
       "      <td>ios</td>\n",
       "      <td>45061</td>\n",
       "      <td>34734</td>\n",
       "      <td>45061</td>\n",
       "      <td>CPM</td>\n",
       "      <td>200.6</td>\n",
       "      <td>0</td>\n",
       "      <td>1955269</td>\n",
       "      <td>2018-12-04</td>\n",
       "    </tr>\n",
       "    <tr>\n",
       "      <th>3</th>\n",
       "      <td>2019-04-01</td>\n",
       "      <td>2019-04-01 00:10:23</td>\n",
       "      <td>view</td>\n",
       "      <td>ios</td>\n",
       "      <td>45061</td>\n",
       "      <td>34734</td>\n",
       "      <td>45061</td>\n",
       "      <td>CPM</td>\n",
       "      <td>200.6</td>\n",
       "      <td>0</td>\n",
       "      <td>1955269</td>\n",
       "      <td>2018-12-04</td>\n",
       "    </tr>\n",
       "    <tr>\n",
       "      <th>4</th>\n",
       "      <td>2019-04-01</td>\n",
       "      <td>2019-04-01 00:15:42</td>\n",
       "      <td>view</td>\n",
       "      <td>android</td>\n",
       "      <td>45061</td>\n",
       "      <td>34734</td>\n",
       "      <td>45061</td>\n",
       "      <td>CPM</td>\n",
       "      <td>200.6</td>\n",
       "      <td>0</td>\n",
       "      <td>1955269</td>\n",
       "      <td>2018-12-04</td>\n",
       "    </tr>\n",
       "    <tr>\n",
       "      <th>5</th>\n",
       "      <td>2019-04-01</td>\n",
       "      <td>2019-04-01 00:16:59</td>\n",
       "      <td>view</td>\n",
       "      <td>ios</td>\n",
       "      <td>45061</td>\n",
       "      <td>34734</td>\n",
       "      <td>45061</td>\n",
       "      <td>CPM</td>\n",
       "      <td>200.6</td>\n",
       "      <td>0</td>\n",
       "      <td>1955269</td>\n",
       "      <td>2018-12-04</td>\n",
       "    </tr>\n",
       "    <tr>\n",
       "      <th>6</th>\n",
       "      <td>2019-04-01</td>\n",
       "      <td>2019-04-01 00:21:54</td>\n",
       "      <td>view</td>\n",
       "      <td>web</td>\n",
       "      <td>45061</td>\n",
       "      <td>34734</td>\n",
       "      <td>45061</td>\n",
       "      <td>CPM</td>\n",
       "      <td>200.6</td>\n",
       "      <td>0</td>\n",
       "      <td>1955269</td>\n",
       "      <td>2018-12-04</td>\n",
       "    </tr>\n",
       "    <tr>\n",
       "      <th>7</th>\n",
       "      <td>2019-04-01</td>\n",
       "      <td>2019-04-01 00:29:58</td>\n",
       "      <td>view</td>\n",
       "      <td>android</td>\n",
       "      <td>45061</td>\n",
       "      <td>34734</td>\n",
       "      <td>45061</td>\n",
       "      <td>CPM</td>\n",
       "      <td>200.6</td>\n",
       "      <td>0</td>\n",
       "      <td>1955269</td>\n",
       "      <td>2018-12-04</td>\n",
       "    </tr>\n",
       "    <tr>\n",
       "      <th>8</th>\n",
       "      <td>2019-04-01</td>\n",
       "      <td>2019-04-01 00:32:10</td>\n",
       "      <td>view</td>\n",
       "      <td>web</td>\n",
       "      <td>45061</td>\n",
       "      <td>34734</td>\n",
       "      <td>45061</td>\n",
       "      <td>CPM</td>\n",
       "      <td>200.6</td>\n",
       "      <td>0</td>\n",
       "      <td>1955269</td>\n",
       "      <td>2018-12-04</td>\n",
       "    </tr>\n",
       "    <tr>\n",
       "      <th>9</th>\n",
       "      <td>2019-04-01</td>\n",
       "      <td>2019-04-01 00:33:07</td>\n",
       "      <td>view</td>\n",
       "      <td>android</td>\n",
       "      <td>45061</td>\n",
       "      <td>34734</td>\n",
       "      <td>45061</td>\n",
       "      <td>CPM</td>\n",
       "      <td>200.6</td>\n",
       "      <td>0</td>\n",
       "      <td>1955269</td>\n",
       "      <td>2018-12-04</td>\n",
       "    </tr>\n",
       "  </tbody>\n",
       "</table>\n",
       "</div>"
      ],
      "text/plain": [
       "         date                 time event platform  ad_id  client_union_id  \\\n",
       "0  2019-04-01  2019-04-01 00:00:48  view  android  45061            34734   \n",
       "1  2019-04-01  2019-04-01 00:03:28  view  android  45061            34734   \n",
       "2  2019-04-01  2019-04-01 00:04:58  view      ios  45061            34734   \n",
       "3  2019-04-01  2019-04-01 00:10:23  view      ios  45061            34734   \n",
       "4  2019-04-01  2019-04-01 00:15:42  view  android  45061            34734   \n",
       "5  2019-04-01  2019-04-01 00:16:59  view      ios  45061            34734   \n",
       "6  2019-04-01  2019-04-01 00:21:54  view      web  45061            34734   \n",
       "7  2019-04-01  2019-04-01 00:29:58  view  android  45061            34734   \n",
       "8  2019-04-01  2019-04-01 00:32:10  view      web  45061            34734   \n",
       "9  2019-04-01  2019-04-01 00:33:07  view  android  45061            34734   \n",
       "\n",
       "   campaign_union_id ad_cost_type  ad_cost  has_video  target_audience_count  \\\n",
       "0              45061          CPM    200.6          0                1955269   \n",
       "1              45061          CPM    200.6          0                1955269   \n",
       "2              45061          CPM    200.6          0                1955269   \n",
       "3              45061          CPM    200.6          0                1955269   \n",
       "4              45061          CPM    200.6          0                1955269   \n",
       "5              45061          CPM    200.6          0                1955269   \n",
       "6              45061          CPM    200.6          0                1955269   \n",
       "7              45061          CPM    200.6          0                1955269   \n",
       "8              45061          CPM    200.6          0                1955269   \n",
       "9              45061          CPM    200.6          0                1955269   \n",
       "\n",
       "  create_date  \n",
       "0  2018-12-04  \n",
       "1  2018-12-04  \n",
       "2  2018-12-04  \n",
       "3  2018-12-04  \n",
       "4  2018-12-04  \n",
       "5  2018-12-04  \n",
       "6  2018-12-04  \n",
       "7  2018-12-04  \n",
       "8  2018-12-04  \n",
       "9  2018-12-04  "
      ]
     },
     "execution_count": 38,
     "metadata": {},
     "output_type": "execute_result"
    }
   ],
   "source": [
    "ad = pd.read_csv ('ad_data.csv')\n",
    "ad.head(10)"
   ]
  },
  {
   "cell_type": "markdown",
   "id": "39d39eac",
   "metadata": {},
   "source": [
    "Посмотрим на распределение количества показов и кликов в выборке. "
   ]
  },
  {
   "cell_type": "code",
   "execution_count": 39,
   "id": "f3373b09",
   "metadata": {
    "scrolled": true
   },
   "outputs": [
    {
     "data": {
      "text/html": [
       "<div>\n",
       "<style scoped>\n",
       "    .dataframe tbody tr th:only-of-type {\n",
       "        vertical-align: middle;\n",
       "    }\n",
       "\n",
       "    .dataframe tbody tr th {\n",
       "        vertical-align: top;\n",
       "    }\n",
       "\n",
       "    .dataframe thead th {\n",
       "        text-align: right;\n",
       "    }\n",
       "</style>\n",
       "<table border=\"1\" class=\"dataframe\">\n",
       "  <thead>\n",
       "    <tr style=\"text-align: right;\">\n",
       "      <th></th>\n",
       "      <th>ad_id</th>\n",
       "      <th>event</th>\n",
       "      <th>event_number</th>\n",
       "    </tr>\n",
       "  </thead>\n",
       "  <tbody>\n",
       "    <tr>\n",
       "      <th>0</th>\n",
       "      <td>2</td>\n",
       "      <td>click</td>\n",
       "      <td>1</td>\n",
       "    </tr>\n",
       "    <tr>\n",
       "      <th>1</th>\n",
       "      <td>2</td>\n",
       "      <td>view</td>\n",
       "      <td>101</td>\n",
       "    </tr>\n",
       "    <tr>\n",
       "      <th>2</th>\n",
       "      <td>3</td>\n",
       "      <td>click</td>\n",
       "      <td>3</td>\n",
       "    </tr>\n",
       "    <tr>\n",
       "      <th>3</th>\n",
       "      <td>3</td>\n",
       "      <td>view</td>\n",
       "      <td>184</td>\n",
       "    </tr>\n",
       "    <tr>\n",
       "      <th>4</th>\n",
       "      <td>1902</td>\n",
       "      <td>click</td>\n",
       "      <td>1</td>\n",
       "    </tr>\n",
       "    <tr>\n",
       "      <th>5</th>\n",
       "      <td>1902</td>\n",
       "      <td>view</td>\n",
       "      <td>41</td>\n",
       "    </tr>\n",
       "    <tr>\n",
       "      <th>6</th>\n",
       "      <td>2064</td>\n",
       "      <td>view</td>\n",
       "      <td>35</td>\n",
       "    </tr>\n",
       "    <tr>\n",
       "      <th>7</th>\n",
       "      <td>2132</td>\n",
       "      <td>click</td>\n",
       "      <td>1</td>\n",
       "    </tr>\n",
       "    <tr>\n",
       "      <th>8</th>\n",
       "      <td>2132</td>\n",
       "      <td>view</td>\n",
       "      <td>58</td>\n",
       "    </tr>\n",
       "    <tr>\n",
       "      <th>9</th>\n",
       "      <td>2468</td>\n",
       "      <td>view</td>\n",
       "      <td>39</td>\n",
       "    </tr>\n",
       "  </tbody>\n",
       "</table>\n",
       "</div>"
      ],
      "text/plain": [
       "   ad_id  event  event_number\n",
       "0      2  click             1\n",
       "1      2   view           101\n",
       "2      3  click             3\n",
       "3      3   view           184\n",
       "4   1902  click             1\n",
       "5   1902   view            41\n",
       "6   2064   view            35\n",
       "7   2132  click             1\n",
       "8   2132   view            58\n",
       "9   2468   view            39"
      ]
     },
     "execution_count": 39,
     "metadata": {},
     "output_type": "execute_result"
    }
   ],
   "source": [
    "events_number = ad.groupby(['ad_id','event'], as_index=False)\\\n",
    ".agg({'date':'count'})\\\n",
    ".rename(columns={'date': 'event_number'})\n",
    "events_number.head(10)"
   ]
  },
  {
   "cell_type": "markdown",
   "id": "a4e7b1ab",
   "metadata": {},
   "source": [
    "По распределению видим, что показов на рекламных объявлениях выше, чем кликов (как и должно быть). Но на некоторых объявлениях (2064, 2468) только показы, это скорее всего из-за того, что на этих объявлениях еще мало показов. "
   ]
  },
  {
   "cell_type": "markdown",
   "id": "2a35bcff",
   "metadata": {},
   "source": [
    "Посмотрим на среднее количество показов и кликов на объявления за весь период"
   ]
  },
  {
   "cell_type": "code",
   "execution_count": 40,
   "id": "0e7a3596",
   "metadata": {},
   "outputs": [
    {
     "data": {
      "text/plain": [
       "event\n",
       "click    113.0\n",
       "view     923.0\n",
       "dtype: float64"
      ]
     },
     "execution_count": 40,
     "metadata": {},
     "output_type": "execute_result"
    }
   ],
   "source": [
    "#изменим форму данных с помощью pivot, и строки \"view\" и \"click\" станут столбцами, а их значением будет среднее от event_number\n",
    "#так как не у всех объявлений были клики, на их месте образовались NaN, их нужно заменить нулями\n",
    "avg_event_number = events_number\\\n",
    ".pivot(index='ad_id', columns='event', values='event_number')\\\n",
    ".fillna(0)\\\n",
    ".mean()\\\n",
    ".round()\n",
    "avg_event_number"
   ]
  },
  {
   "cell_type": "code",
   "execution_count": 41,
   "id": "9998e9dc",
   "metadata": {
    "scrolled": true
   },
   "outputs": [
    {
     "name": "stdout",
     "output_type": "stream",
     "text": [
      "12.242686890574214\n"
     ]
    }
   ],
   "source": [
    "print(avg_event_number[0]*100/ avg_event_number[1])"
   ]
  },
  {
   "cell_type": "markdown",
   "id": "d2744611",
   "metadata": {},
   "source": [
    "На основе среднего количества показов и кликов можно было бы сделать вывод, что на 100 показов приходится примерно 12 кликов. Но судя по таблице распределения количества показов и кликов events_number, вероятнее всего, что на 100 показов кликов приходится гораздо меньше. Возможно в данных есть какая-то аномалия"
   ]
  },
  {
   "cell_type": "markdown",
   "id": "02870eab",
   "metadata": {},
   "source": [
    "Скользящее среднее часто используется для поиска аномалий в данных. Посмотрим на одном графике значения арифметического среднего и скользящего среднего количества кликов по дням. Дни, в которых скользящее среднее равно NaN, не учитываем."
   ]
  },
  {
   "cell_type": "code",
   "execution_count": 85,
   "id": "45eb477d",
   "metadata": {},
   "outputs": [
    {
     "data": {
      "text/html": [
       "<div>\n",
       "<style scoped>\n",
       "    .dataframe tbody tr th:only-of-type {\n",
       "        vertical-align: middle;\n",
       "    }\n",
       "\n",
       "    .dataframe tbody tr th {\n",
       "        vertical-align: top;\n",
       "    }\n",
       "\n",
       "    .dataframe thead th {\n",
       "        text-align: right;\n",
       "    }\n",
       "</style>\n",
       "<table border=\"1\" class=\"dataframe\">\n",
       "  <thead>\n",
       "    <tr style=\"text-align: right;\">\n",
       "      <th>date</th>\n",
       "      <th>2019-04-01</th>\n",
       "      <th>2019-04-02</th>\n",
       "      <th>2019-04-03</th>\n",
       "      <th>2019-04-04</th>\n",
       "      <th>2019-04-05</th>\n",
       "      <th>2019-04-06</th>\n",
       "    </tr>\n",
       "    <tr>\n",
       "      <th>ad_id</th>\n",
       "      <th></th>\n",
       "      <th></th>\n",
       "      <th></th>\n",
       "      <th></th>\n",
       "      <th></th>\n",
       "      <th></th>\n",
       "    </tr>\n",
       "  </thead>\n",
       "  <tbody>\n",
       "    <tr>\n",
       "      <th>2</th>\n",
       "      <td>1.0</td>\n",
       "      <td>NaN</td>\n",
       "      <td>NaN</td>\n",
       "      <td>NaN</td>\n",
       "      <td>NaN</td>\n",
       "      <td>NaN</td>\n",
       "    </tr>\n",
       "    <tr>\n",
       "      <th>3</th>\n",
       "      <td>2.0</td>\n",
       "      <td>1.0</td>\n",
       "      <td>NaN</td>\n",
       "      <td>NaN</td>\n",
       "      <td>NaN</td>\n",
       "      <td>NaN</td>\n",
       "    </tr>\n",
       "    <tr>\n",
       "      <th>1902</th>\n",
       "      <td>NaN</td>\n",
       "      <td>NaN</td>\n",
       "      <td>1.0</td>\n",
       "      <td>NaN</td>\n",
       "      <td>NaN</td>\n",
       "      <td>NaN</td>\n",
       "    </tr>\n",
       "    <tr>\n",
       "      <th>2132</th>\n",
       "      <td>NaN</td>\n",
       "      <td>NaN</td>\n",
       "      <td>NaN</td>\n",
       "      <td>1.0</td>\n",
       "      <td>NaN</td>\n",
       "      <td>NaN</td>\n",
       "    </tr>\n",
       "    <tr>\n",
       "      <th>2494</th>\n",
       "      <td>NaN</td>\n",
       "      <td>1.0</td>\n",
       "      <td>NaN</td>\n",
       "      <td>NaN</td>\n",
       "      <td>NaN</td>\n",
       "      <td>NaN</td>\n",
       "    </tr>\n",
       "    <tr>\n",
       "      <th>...</th>\n",
       "      <td>...</td>\n",
       "      <td>...</td>\n",
       "      <td>...</td>\n",
       "      <td>...</td>\n",
       "      <td>...</td>\n",
       "      <td>...</td>\n",
       "    </tr>\n",
       "    <tr>\n",
       "      <th>121893</th>\n",
       "      <td>2.0</td>\n",
       "      <td>NaN</td>\n",
       "      <td>NaN</td>\n",
       "      <td>NaN</td>\n",
       "      <td>NaN</td>\n",
       "      <td>NaN</td>\n",
       "    </tr>\n",
       "    <tr>\n",
       "      <th>121896</th>\n",
       "      <td>NaN</td>\n",
       "      <td>NaN</td>\n",
       "      <td>NaN</td>\n",
       "      <td>1.0</td>\n",
       "      <td>NaN</td>\n",
       "      <td>NaN</td>\n",
       "    </tr>\n",
       "    <tr>\n",
       "      <th>121964</th>\n",
       "      <td>NaN</td>\n",
       "      <td>NaN</td>\n",
       "      <td>NaN</td>\n",
       "      <td>5.0</td>\n",
       "      <td>NaN</td>\n",
       "      <td>NaN</td>\n",
       "    </tr>\n",
       "    <tr>\n",
       "      <th>122004</th>\n",
       "      <td>3.0</td>\n",
       "      <td>1.0</td>\n",
       "      <td>NaN</td>\n",
       "      <td>NaN</td>\n",
       "      <td>NaN</td>\n",
       "      <td>NaN</td>\n",
       "    </tr>\n",
       "    <tr>\n",
       "      <th>122031</th>\n",
       "      <td>NaN</td>\n",
       "      <td>NaN</td>\n",
       "      <td>NaN</td>\n",
       "      <td>NaN</td>\n",
       "      <td>1.0</td>\n",
       "      <td>NaN</td>\n",
       "    </tr>\n",
       "  </tbody>\n",
       "</table>\n",
       "<p>525 rows × 6 columns</p>\n",
       "</div>"
      ],
      "text/plain": [
       "date    2019-04-01  2019-04-02  2019-04-03  2019-04-04  2019-04-05  2019-04-06\n",
       "ad_id                                                                         \n",
       "2              1.0         NaN         NaN         NaN         NaN         NaN\n",
       "3              2.0         1.0         NaN         NaN         NaN         NaN\n",
       "1902           NaN         NaN         1.0         NaN         NaN         NaN\n",
       "2132           NaN         NaN         NaN         1.0         NaN         NaN\n",
       "2494           NaN         1.0         NaN         NaN         NaN         NaN\n",
       "...            ...         ...         ...         ...         ...         ...\n",
       "121893         2.0         NaN         NaN         NaN         NaN         NaN\n",
       "121896         NaN         NaN         NaN         1.0         NaN         NaN\n",
       "121964         NaN         NaN         NaN         5.0         NaN         NaN\n",
       "122004         3.0         1.0         NaN         NaN         NaN         NaN\n",
       "122031         NaN         NaN         NaN         NaN         1.0         NaN\n",
       "\n",
       "[525 rows x 6 columns]"
      ]
     },
     "execution_count": 85,
     "metadata": {},
     "output_type": "execute_result"
    }
   ],
   "source": [
    "#создадим датафрейм с числом кликов рекламы по дням\n",
    "click_by_day = ad.query('event==\"click\"')\\\n",
    ".pivot_table(index='ad_id', columns='date', values='time', aggfunc='count')\n",
    "click_by_day"
   ]
  },
  {
   "cell_type": "code",
   "execution_count": 87,
   "id": "8c854300",
   "metadata": {},
   "outputs": [
    {
     "data": {
      "text/plain": [
       "date\n",
       "2019-04-01      3.506024\n",
       "2019-04-02      4.192308\n",
       "2019-04-03      3.833333\n",
       "2019-04-04      3.969136\n",
       "2019-04-05    510.060773\n",
       "2019-04-06    276.259259\n",
       "dtype: float64"
      ]
     },
     "execution_count": 87,
     "metadata": {},
     "output_type": "execute_result"
    }
   ],
   "source": [
    "#посчитаем арифметическое среднее количества кликов по дням\n",
    "mean_click_by_day = view_by_day.mean()\n",
    "mean_click_by_day"
   ]
  },
  {
   "cell_type": "code",
   "execution_count": 104,
   "id": "0eb77ac4",
   "metadata": {
    "scrolled": false
   },
   "outputs": [
    {
     "data": {
      "text/plain": [
       "date\n",
       "2019-04-01      3.506024\n",
       "2019-04-02      3.849166\n",
       "2019-04-03      4.012821\n",
       "2019-04-04      3.901235\n",
       "2019-04-05    257.014955\n",
       "2019-04-06    393.160016\n",
       "dtype: float64"
      ]
     },
     "execution_count": 104,
     "metadata": {},
     "output_type": "execute_result"
    }
   ],
   "source": [
    "#посчитаем скользящее среднее количества кликов по дням\n",
    "rolling_click_by_day = mean_click_by_day.rolling(2, min_periods=1).mean()\n",
    "rolling_click_by_day"
   ]
  },
  {
   "cell_type": "code",
   "execution_count": 89,
   "id": "8170d18a",
   "metadata": {},
   "outputs": [
    {
     "data": {
      "image/png": "[encoded data removed]",
      "text/plain": [
       "<Figure size 648x432 with 1 Axes>"
      ]
     },
     "metadata": {},
     "output_type": "display_data"
    }
   ],
   "source": [
    "plt.figure(figsize=(9,6))\n",
    "sns.set(style='whitegrid')\n",
    "mean_click_by_day.plot(label = 'mean')\n",
    "rolling_click_by_day.plot(label = 'rolling')\n",
    "plt.legend()\n",
    "plt.show()"
   ]
  },
  {
   "cell_type": "markdown",
   "id": "796aa537",
   "metadata": {},
   "source": [
    "По графику видим, что в некоторые дни скользящее и арифметическое среднее кликов сильно различаются, посчитаем разницу по модулю между показателями средних."
   ]
  },
  {
   "cell_type": "code",
   "execution_count": 109,
   "id": "868f6f0c",
   "metadata": {},
   "outputs": [
    {
     "data": {
      "text/plain": [
       "date\n",
       "2019-04-01      0.000000\n",
       "2019-04-02      0.343142\n",
       "2019-04-03      0.179487\n",
       "2019-04-04      0.067901\n",
       "2019-04-05    253.045819\n",
       "2019-04-06    116.900757\n",
       "dtype: float64"
      ]
     },
     "execution_count": 109,
     "metadata": {},
     "output_type": "execute_result"
    }
   ],
   "source": [
    "(mean_click_by_day- rolling_click_by_day).abs()"
   ]
  },
  {
   "cell_type": "code",
   "execution_count": 110,
   "id": "3aa9fbac",
   "metadata": {},
   "outputs": [
    {
     "data": {
      "text/plain": [
       "'2019-04-05'"
      ]
     },
     "execution_count": 110,
     "metadata": {},
     "output_type": "execute_result"
    }
   ],
   "source": [
    "anomaly_day = (mean_view_by_day - rolling_view_by_day).abs().idxmax()\n",
    "anomaly_day"
   ]
  },
  {
   "cell_type": "markdown",
   "id": "488f1e44",
   "metadata": {},
   "source": [
    "Итак, наибольшая разница между арифметическим и скользящим средним была выявлена 2019-04-05. Возможно в этот день было выгружено объявление, которое собрало высокое количество кликов, найдем это объявление и посмотрим на него."
   ]
  },
  {
   "cell_type": "code",
   "execution_count": 92,
   "id": "79ff3196",
   "metadata": {},
   "outputs": [
    {
     "data": {
      "text/plain": [
       "253.0458188390969"
      ]
     },
     "execution_count": 92,
     "metadata": {},
     "output_type": "execute_result"
    }
   ],
   "source": [
    "#разница в аномальный день между средним и скользящим средним\n",
    "difference_value = (mean_click_by_day - rolling_click_by_day)[anomaly_day] \n",
    "difference_value"
   ]
  },
  {
   "cell_type": "markdown",
   "id": "fbf63709",
   "metadata": {},
   "source": [
    "Найдем объявление с максимальным числом кликов в этот день"
   ]
  },
  {
   "cell_type": "code",
   "execution_count": 105,
   "id": "24571e8a",
   "metadata": {},
   "outputs": [
    {
     "data": {
      "text/plain": [
       "112583"
      ]
     },
     "execution_count": 105,
     "metadata": {},
     "output_type": "execute_result"
    }
   ],
   "source": [
    "anomaly_ad = click_by_day[anomaly_day].idxmax()\n",
    "anomaly_ad"
   ]
  },
  {
   "cell_type": "markdown",
   "id": "13595098",
   "metadata": {},
   "source": [
    "Если поиск аномального объявления является регулярной задачей, было бы удобно, если была бы функция под эту задачу. Создадим функцию, которая найдет проблемное объявление (с наибольшим/наименишим количеством кликов) в день, в который была замечена самая большая по модулю аномалия"
   ]
  },
  {
   "cell_type": "code",
   "execution_count": 106,
   "id": "b3feb206",
   "metadata": {},
   "outputs": [],
   "source": [
    "def find_anomaly_ad (ad_find):\n",
    "    mean_click_by_day = ad_find.mean() #ищем среднее \n",
    "    rolling_click_by_day = mean_click_by_day.rolling(2, min_periods=1).mean() #ищем скользящее\n",
    "    \n",
    "    mean_difference = (mean_click_by_day - rolling_click_by_day)\n",
    "    anomaly_day = mean_difference.abs().idxmax() #ищем день, где разница среднего и скользящего максимальна\n",
    "    \n",
    "    difference_value = mean_difference[anomaly_day] #извлекаем из разницы средних ячейку с аномальным днем\n",
    "    anomaly_ad = ad_find[anomaly_day].idxmax() #то находим рекламу с максимальными показами\n",
    "    \n",
    "    return anomaly_ad"
   ]
  },
  {
   "cell_type": "code",
   "execution_count": 107,
   "id": "da52f438",
   "metadata": {},
   "outputs": [
    {
     "data": {
      "text/plain": [
       "112583"
      ]
     },
     "execution_count": 107,
     "metadata": {},
     "output_type": "execute_result"
    }
   ],
   "source": [
    "#применим функцию к датасету\n",
    "find_anomaly_ad(click_by_day)"
   ]
  },
  {
   "cell_type": "markdown",
   "id": "3f7a8f5f",
   "metadata": {},
   "source": [
    "Как видим, функция дает правильный результат. Посмотрим на это объявление"
   ]
  },
  {
   "cell_type": "code",
   "execution_count": 114,
   "id": "eeacdc47",
   "metadata": {},
   "outputs": [
    {
     "data": {
      "text/html": [
       "<div>\n",
       "<style scoped>\n",
       "    .dataframe tbody tr th:only-of-type {\n",
       "        vertical-align: middle;\n",
       "    }\n",
       "\n",
       "    .dataframe tbody tr th {\n",
       "        vertical-align: top;\n",
       "    }\n",
       "\n",
       "    .dataframe thead th {\n",
       "        text-align: right;\n",
       "    }\n",
       "</style>\n",
       "<table border=\"1\" class=\"dataframe\">\n",
       "  <thead>\n",
       "    <tr style=\"text-align: right;\">\n",
       "      <th></th>\n",
       "      <th>ad_id</th>\n",
       "      <th>event</th>\n",
       "      <th>event_number</th>\n",
       "    </tr>\n",
       "  </thead>\n",
       "  <tbody>\n",
       "    <tr>\n",
       "      <th>1220</th>\n",
       "      <td>112583</td>\n",
       "      <td>click</td>\n",
       "      <td>105767</td>\n",
       "    </tr>\n",
       "    <tr>\n",
       "      <th>1221</th>\n",
       "      <td>112583</td>\n",
       "      <td>view</td>\n",
       "      <td>351802</td>\n",
       "    </tr>\n",
       "  </tbody>\n",
       "</table>\n",
       "</div>"
      ],
      "text/plain": [
       "       ad_id  event  event_number\n",
       "1220  112583  click        105767\n",
       "1221  112583   view        351802"
      ]
     },
     "execution_count": 114,
     "metadata": {},
     "output_type": "execute_result"
    }
   ],
   "source": [
    "anomaly_ad_number = events_number.query('ad_id == 112583')\n",
    "anomaly_ad_number"
   ]
  },
  {
   "cell_type": "code",
   "execution_count": 129,
   "id": "be2f2bc1",
   "metadata": {},
   "outputs": [
    {
     "data": {
      "text/plain": [
       "105767"
      ]
     },
     "execution_count": 129,
     "metadata": {},
     "output_type": "execute_result"
    }
   ],
   "source": [
    "anomaly_ad_number.event_number.iloc[0]"
   ]
  },
  {
   "cell_type": "code",
   "execution_count": 131,
   "id": "28ad2371",
   "metadata": {},
   "outputs": [
    {
     "name": "stdout",
     "output_type": "stream",
     "text": [
      "30.06435438115758\n"
     ]
    }
   ],
   "source": [
    "print(anomaly_ad_number.event_number.iloc[0]*100/ anomaly_ad_number.event_number.iloc[1])"
   ]
  },
  {
   "cell_type": "markdown",
   "id": "f1920cad",
   "metadata": {},
   "source": [
    "Действительно, наблюдается объявление c высокими показателями кликов и показов, у которого на каждые 100 показов приходится примерно 30 кликов. Такое объявление является выбросом, посмотрим на данные без этого объявления."
   ]
  },
  {
   "cell_type": "code",
   "execution_count": 136,
   "id": "3e5f2614",
   "metadata": {},
   "outputs": [
    {
     "data": {
      "text/plain": [
       "event\n",
       "click      4.0\n",
       "view     559.0\n",
       "dtype: float64"
      ]
     },
     "execution_count": 136,
     "metadata": {},
     "output_type": "execute_result"
    }
   ],
   "source": [
    "new_event_number = events_number.query('ad_id != 112583')\\\n",
    ".pivot(index='ad_id', columns='event', values='event_number')\\\n",
    ".fillna(0)\\\n",
    ".mean()\\\n",
    ".round()\n",
    "new_event_number"
   ]
  },
  {
   "cell_type": "code",
   "execution_count": 137,
   "id": "fcc863d1",
   "metadata": {},
   "outputs": [
    {
     "name": "stdout",
     "output_type": "stream",
     "text": [
      "0.7155635062611807\n"
     ]
    }
   ],
   "source": [
    "print(new_event_number[0]*100/ new_event_number[1])"
   ]
  },
  {
   "cell_type": "markdown",
   "id": "dd4f3012",
   "metadata": {},
   "source": [
    "Теперь мы видим более реалистичную картину, для получения хотя бы одного клика, в среднем нужно, чтобы у рекламного объявления было более 100 показов."
   ]
  },
  {
   "cell_type": "markdown",
   "id": "c675c6f8",
   "metadata": {},
   "source": [
    "Теперь подробнее исследуем рекламных клиентов. Для начала посмотрим на то, как быстро клиенты начинают запускать рекламное объявление с момента регистрации. "
   ]
  },
  {
   "cell_type": "markdown",
   "id": "48500be7",
   "metadata": {},
   "source": [
    "Так как начинается работа с датами, посмотрим на тип данных и при необходимости передем все даты в тип datetime"
   ]
  },
  {
   "cell_type": "code",
   "execution_count": 140,
   "id": "a79deecf",
   "metadata": {},
   "outputs": [
    {
     "data": {
      "text/plain": [
       "date                      object\n",
       "time                      object\n",
       "event                     object\n",
       "platform                  object\n",
       "ad_id                      int64\n",
       "client_union_id            int64\n",
       "campaign_union_id          int64\n",
       "ad_cost_type              object\n",
       "ad_cost                  float64\n",
       "has_video                  int64\n",
       "target_audience_count      int64\n",
       "create_date               object\n",
       "dtype: object"
      ]
     },
     "execution_count": 140,
     "metadata": {},
     "output_type": "execute_result"
    }
   ],
   "source": [
    "ad.dtypes"
   ]
  },
  {
   "cell_type": "code",
   "execution_count": 141,
   "id": "d54db052",
   "metadata": {},
   "outputs": [],
   "source": [
    "ad[['date','create_date']] = ad[['date','create_date']].apply(pd.to_datetime)"
   ]
  },
  {
   "cell_type": "code",
   "execution_count": 142,
   "id": "7669bd97",
   "metadata": {},
   "outputs": [
    {
     "data": {
      "text/plain": [
       "date           datetime64[ns]\n",
       "create_date    datetime64[ns]\n",
       "dtype: object"
      ]
     },
     "execution_count": 142,
     "metadata": {},
     "output_type": "execute_result"
    }
   ],
   "source": [
    "ad[['date','create_date']].dtypes"
   ]
  },
  {
   "cell_type": "markdown",
   "id": "a083ac52",
   "metadata": {},
   "source": [
    "Найдем среднее количество дней от даты создания рекламного клиента до первого запуска рекламного объявления клиентом."
   ]
  },
  {
   "cell_type": "code",
   "execution_count": 145,
   "id": "e8a7a481",
   "metadata": {},
   "outputs": [],
   "source": [
    "#создадим функцию, которая считает разницу между датой создания кабинета и датой запуска рекламы\n",
    "def find_min_diff (group): \n",
    "    diff = group.date - group.create_date\n",
    "    return diff.min() #чтобы получить разницу времени для первой рекламы клиента, нужно внутри группы взять минимальное время"
   ]
  },
  {
   "cell_type": "code",
   "execution_count": 149,
   "id": "d23d7930",
   "metadata": {},
   "outputs": [
    {
     "data": {
      "text/plain": [
       "client_union_id\n",
       "1         98 days\n",
       "9        114 days\n",
       "13        66 days\n",
       "16       105 days\n",
       "20        32 days\n",
       "           ...   \n",
       "122004    67 days\n",
       "122013   151 days\n",
       "122023   126 days\n",
       "122031    96 days\n",
       "122078    71 days\n",
       "Length: 838, dtype: timedelta64[ns]"
      ]
     },
     "execution_count": 149,
     "metadata": {},
     "output_type": "execute_result"
    }
   ],
   "source": [
    "#у каждого клиента посмотрим на это минимальное время, т.е. на количество дней, которое прошло с регистрации до первого запуска\n",
    "difference_days = ad.groupby('client_union_id')\\\n",
    ".apply(find_min_diff)\n",
    "difference_days "
   ]
  },
  {
   "cell_type": "code",
   "execution_count": 150,
   "id": "6d1d2676",
   "metadata": {},
   "outputs": [
    {
     "data": {
      "text/plain": [
       "Timedelta('124 days 09:04:43.532219570')"
      ]
     },
     "execution_count": 150,
     "metadata": {},
     "output_type": "execute_result"
    }
   ],
   "source": [
    "difference_days.mean()"
   ]
  },
  {
   "cell_type": "markdown",
   "id": "31347e61",
   "metadata": {},
   "source": [
    "В среднем клиенты запускают свою первую рекламу спустя 124 дня с момента регистрации на площадке"
   ]
  },
  {
   "cell_type": "markdown",
   "id": "36053bb8",
   "metadata": {},
   "source": [
    "Для более удобного восприятия разобъем рекламных клиентов по промежуткам от создания до запуска рекламного объявления."
   ]
  },
  {
   "cell_type": "code",
   "execution_count": 160,
   "id": "81a78d23",
   "metadata": {},
   "outputs": [
    {
     "data": {
      "text/plain": [
       "TimedeltaIndex(['0 days', '30 days', '90 days', '180 days', '365 days'], dtype='timedelta64[ns]', freq=None)"
      ]
     },
     "execution_count": 160,
     "metadata": {},
     "output_type": "execute_result"
    }
   ],
   "source": [
    "воспользуемся векторизованной функцией timedelta, которая сделает список из указанных пролмежутков\n",
    "bins = pd.to_timedelta([0, 30, 90, 180, 365], unit='d')\n",
    "bins"
   ]
  },
  {
   "cell_type": "code",
   "execution_count": 168,
   "id": "3c24232f",
   "metadata": {},
   "outputs": [],
   "source": [
    "#зададим названия нашим промежуткам\n",
    "labels = ['0-30 days',\n",
    "          '30-90 days',\n",
    "          '90-180 days',\n",
    "          '180-365 days']"
   ]
  },
  {
   "cell_type": "code",
   "execution_count": 169,
   "id": "27536157",
   "metadata": {},
   "outputs": [],
   "source": [
    "#создадим новую колонку с промежутками с помощью метода pd.cut\n",
    "ad['days_categorical'] = pd.cut(difference_days, bins=bins, labels=labels)"
   ]
  },
  {
   "cell_type": "code",
   "execution_count": 173,
   "id": "0645fe4d",
   "metadata": {},
   "outputs": [
    {
     "data": {
      "text/html": [
       "<div>\n",
       "<style scoped>\n",
       "    .dataframe tbody tr th:only-of-type {\n",
       "        vertical-align: middle;\n",
       "    }\n",
       "\n",
       "    .dataframe tbody tr th {\n",
       "        vertical-align: top;\n",
       "    }\n",
       "\n",
       "    .dataframe thead th {\n",
       "        text-align: right;\n",
       "    }\n",
       "</style>\n",
       "<table border=\"1\" class=\"dataframe\">\n",
       "  <thead>\n",
       "    <tr style=\"text-align: right;\">\n",
       "      <th></th>\n",
       "      <th>date</th>\n",
       "      <th>time</th>\n",
       "      <th>event</th>\n",
       "      <th>platform</th>\n",
       "      <th>ad_id</th>\n",
       "      <th>client_union_id</th>\n",
       "      <th>campaign_union_id</th>\n",
       "      <th>ad_cost_type</th>\n",
       "      <th>ad_cost</th>\n",
       "      <th>has_video</th>\n",
       "      <th>target_audience_count</th>\n",
       "      <th>create_date</th>\n",
       "      <th>days_categorical</th>\n",
       "    </tr>\n",
       "  </thead>\n",
       "  <tbody>\n",
       "    <tr>\n",
       "      <th>0</th>\n",
       "      <td>2019-04-01</td>\n",
       "      <td>2019-04-01 00:00:48</td>\n",
       "      <td>view</td>\n",
       "      <td>android</td>\n",
       "      <td>45061</td>\n",
       "      <td>34734</td>\n",
       "      <td>45061</td>\n",
       "      <td>CPM</td>\n",
       "      <td>200.6</td>\n",
       "      <td>0</td>\n",
       "      <td>1955269</td>\n",
       "      <td>2018-12-04</td>\n",
       "      <td>NaN</td>\n",
       "    </tr>\n",
       "    <tr>\n",
       "      <th>1</th>\n",
       "      <td>2019-04-01</td>\n",
       "      <td>2019-04-01 00:03:28</td>\n",
       "      <td>view</td>\n",
       "      <td>android</td>\n",
       "      <td>45061</td>\n",
       "      <td>34734</td>\n",
       "      <td>45061</td>\n",
       "      <td>CPM</td>\n",
       "      <td>200.6</td>\n",
       "      <td>0</td>\n",
       "      <td>1955269</td>\n",
       "      <td>2018-12-04</td>\n",
       "      <td>90-180 days</td>\n",
       "    </tr>\n",
       "    <tr>\n",
       "      <th>2</th>\n",
       "      <td>2019-04-01</td>\n",
       "      <td>2019-04-01 00:04:58</td>\n",
       "      <td>view</td>\n",
       "      <td>ios</td>\n",
       "      <td>45061</td>\n",
       "      <td>34734</td>\n",
       "      <td>45061</td>\n",
       "      <td>CPM</td>\n",
       "      <td>200.6</td>\n",
       "      <td>0</td>\n",
       "      <td>1955269</td>\n",
       "      <td>2018-12-04</td>\n",
       "      <td>NaN</td>\n",
       "    </tr>\n",
       "    <tr>\n",
       "      <th>3</th>\n",
       "      <td>2019-04-01</td>\n",
       "      <td>2019-04-01 00:10:23</td>\n",
       "      <td>view</td>\n",
       "      <td>ios</td>\n",
       "      <td>45061</td>\n",
       "      <td>34734</td>\n",
       "      <td>45061</td>\n",
       "      <td>CPM</td>\n",
       "      <td>200.6</td>\n",
       "      <td>0</td>\n",
       "      <td>1955269</td>\n",
       "      <td>2018-12-04</td>\n",
       "      <td>NaN</td>\n",
       "    </tr>\n",
       "    <tr>\n",
       "      <th>4</th>\n",
       "      <td>2019-04-01</td>\n",
       "      <td>2019-04-01 00:15:42</td>\n",
       "      <td>view</td>\n",
       "      <td>android</td>\n",
       "      <td>45061</td>\n",
       "      <td>34734</td>\n",
       "      <td>45061</td>\n",
       "      <td>CPM</td>\n",
       "      <td>200.6</td>\n",
       "      <td>0</td>\n",
       "      <td>1955269</td>\n",
       "      <td>2018-12-04</td>\n",
       "      <td>NaN</td>\n",
       "    </tr>\n",
       "  </tbody>\n",
       "</table>\n",
       "</div>"
      ],
      "text/plain": [
       "        date                 time event platform  ad_id  client_union_id  \\\n",
       "0 2019-04-01  2019-04-01 00:00:48  view  android  45061            34734   \n",
       "1 2019-04-01  2019-04-01 00:03:28  view  android  45061            34734   \n",
       "2 2019-04-01  2019-04-01 00:04:58  view      ios  45061            34734   \n",
       "3 2019-04-01  2019-04-01 00:10:23  view      ios  45061            34734   \n",
       "4 2019-04-01  2019-04-01 00:15:42  view  android  45061            34734   \n",
       "\n",
       "   campaign_union_id ad_cost_type  ad_cost  has_video  target_audience_count  \\\n",
       "0              45061          CPM    200.6          0                1955269   \n",
       "1              45061          CPM    200.6          0                1955269   \n",
       "2              45061          CPM    200.6          0                1955269   \n",
       "3              45061          CPM    200.6          0                1955269   \n",
       "4              45061          CPM    200.6          0                1955269   \n",
       "\n",
       "  create_date days_categorical  \n",
       "0  2018-12-04              NaN  \n",
       "1  2018-12-04      90-180 days  \n",
       "2  2018-12-04              NaN  \n",
       "3  2018-12-04              NaN  \n",
       "4  2018-12-04              NaN  "
      ]
     },
     "execution_count": 173,
     "metadata": {},
     "output_type": "execute_result"
    }
   ],
   "source": [
    "ad.head()"
   ]
  },
  {
   "cell_type": "code",
   "execution_count": 172,
   "id": "b47a0a60",
   "metadata": {},
   "outputs": [
    {
     "data": {
      "text/plain": [
       "838"
      ]
     },
     "execution_count": 172,
     "metadata": {},
     "output_type": "execute_result"
    }
   ],
   "source": [
    "ad.client_union_id.nunique() #количество уникальных клиентов, которые запустили рекламные объявления на площадке"
   ]
  },
  {
   "cell_type": "code",
   "execution_count": 178,
   "id": "b63f4a4c",
   "metadata": {},
   "outputs": [
    {
     "data": {
      "text/plain": [
       "90-180 days     396\n",
       "30-90 days      263\n",
       "180-365 days    168\n",
       "0-30 days        11\n",
       "Name: days_categorical, dtype: int64"
      ]
     },
     "execution_count": 178,
     "metadata": {},
     "output_type": "execute_result"
    }
   ],
   "source": [
    "ad.days_categorical.value_counts() #распределение рекламных клиентов по промежуткам\n"
   ]
  },
  {
   "cell_type": "markdown",
   "id": "8ff2aca9",
   "metadata": {},
   "source": [
    "Итак, в таблице появилась колонка, которая отражает, к какому промежутку времени от создания до запуска рекламного объявления относится каждый уникальный рекламный клиент."
   ]
  },
  {
   "cell_type": "markdown",
   "id": "bb816486",
   "metadata": {},
   "source": [
    "Выведем на график категории по промежуткам времени от создания до запуска рекламы с количеством уникальных клиентов в них"
   ]
  },
  {
   "cell_type": "code",
   "execution_count": 181,
   "id": "39167bd7",
   "metadata": {},
   "outputs": [
    {
     "data": {
      "image/png": "[encoded data removed]",
      "text/plain": [
       "<Figure size 432x288 with 1 Axes>"
      ]
     },
     "metadata": {},
     "output_type": "display_data"
    }
   ],
   "source": [
    "sns.countplot(ad.days_categorical)\n",
    "plt.xlabel('Категория', fontsize=13)\n",
    "plt.ylabel('Количество клиентов', fontsize=13)\n",
    "plt.title('Распределение категорий', \n",
    "          fontsize=14,  \n",
    "          pad='15')\n",
    "plt.show()"
   ]
  },
  {
   "cell_type": "markdown",
   "id": "58230bb4",
   "metadata": {},
   "source": [
    "Больше всех клиентов принадлежат категории 90-180 дней от создания до запуска рекламы"
   ]
  }
 ],
 "metadata": {
  "kernelspec": {
   "display_name": "Python 3",
   "language": "python",
   "name": "python3"
  },
  "language_info": {
   "codemirror_mode": {
    "name": "ipython",
    "version": 3
   },
   "file_extension": ".py",
   "mimetype": "text/x-python",
   "name": "python",
   "nbconvert_exporter": "python",
   "pygments_lexer": "ipython3",
   "version": "3.8.8"
  }
 },
 "nbformat": 4,
 "nbformat_minor": 5
}
